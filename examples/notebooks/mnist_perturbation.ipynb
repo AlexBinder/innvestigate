{
 "cells": [
  {
   "cell_type": "markdown",
   "metadata": {},
   "source": [
    "# Evaluation of Analyzers using Input Perturbations\n",
    "This notebook will guide you through an example how to evaluate analyzers via perturbing the input according to the importance that the different input dimensions have.\n",
    "\n",
    "In particular, several analyzers will be applied to a simple multi-layer perceptron trained on MNIST digits, namely:\n",
    "* Sensitivity Analysis\n",
    "* Deconvolution\n",
    "* Layer-wise relevance propagation\n",
    "\n",
    "The input pixels are divided into quadratic regions that **sorted according to their importance** assigned by those analyzers. Then, the **information in the most important regions is destroyed** by perturbating them and the effect of the perturbation on the classifier performance is measured. This procedure is repeated several times.\n",
    "\n",
    "We expect that the classifier performance drops quickly if important information is removed. Thus, different analyzers can be evaluated by looking at how quickly the performance drops, i.e. the better the analyzer finds the relevant regions in the image the quicker the performance should deteriorate.\n",
    "\n",
    "As a reference, see: **Samek, Wojciech, et al.** \"Evaluating the visualization of what a deep neural network has learned.\" *IEEE transactions on neural networks and learning systems* 28.11 (2017): 2660-2673."
   ]
  },
  {
   "cell_type": "markdown",
   "metadata": {},
   "source": [
    "# Prepare the model, analyzers and data"
   ]
  },
  {
   "cell_type": "code",
   "execution_count": 1,
   "metadata": {},
   "outputs": [
    {
     "name": "stderr",
     "output_type": "stream",
     "text": [
      "Using TensorFlow backend.\n"
     ]
    }
   ],
   "source": [
    "import warnings\n",
    "warnings.simplefilter('ignore')\n",
    "\n",
    "import imp\n",
    "import keras.backend\n",
    "import keras.models\n",
    "import matplotlib.pyplot as plt\n",
    "import numpy as np\n",
    "import os\n",
    "\n",
    "import keras\n",
    "from keras.datasets import mnist\n",
    "from keras.models import Model\n",
    "from keras.optimizers import RMSprop\n",
    "\n",
    "import innvestigate\n",
    "import innvestigate.applications\n",
    "import innvestigate.applications.mnist\n",
    "import innvestigate.utils as iutils\n",
    "import innvestigate.utils.visualizations as ivis\n",
    "\n",
    "from innvestigate.tools import Perturbation, PerturbationAnalysis\n",
    "\n",
    "eutils = imp.load_source(\"utils\", \"../utils.py\")\n",
    "mnistutils = imp.load_source(\"utils_mnist\", \"../utils_mnist.py\")"
   ]
  },
  {
   "cell_type": "markdown",
   "metadata": {},
   "source": [
    "### Load data"
   ]
  },
  {
   "cell_type": "code",
   "execution_count": 2,
   "metadata": {},
   "outputs": [
    {
     "name": "stdout",
     "output_type": "stream",
     "text": [
      "60000 train samples\n",
      "10000 test samples\n"
     ]
    }
   ],
   "source": [
    "channels_first = keras.backend.image_data_format() == \"channels_first\"\n",
    "data = mnistutils.fetch_data(channels_first) #returns x_train, y_train, x_test, y_test as numpy.ndarray\n",
    "num_classes = len(np.unique(data[1]))"
   ]
  },
  {
   "cell_type": "markdown",
   "metadata": {},
   "source": [
    "### Build and train the model"
   ]
  },
  {
   "cell_type": "code",
   "execution_count": 3,
   "metadata": {},
   "outputs": [],
   "source": [
    "#         MODELNAME                      INPUT RANGE   EPOCHS   BATCH_SZ   MODEL CREATION KWARGS\n",
    "models = {'mlp_2dense':                  ([-1, 1],     15,      128,       {'dense_units':1024, 'dropout_rate':0.25}),\n",
    "          'mlp_3dense':                  ([-1, 1],     20,      128,       {'dense_units':1024, 'dropout_rate':0.25}),\n",
    "          'cnn_2convb_2dense':           ([-.5, .5],   20,      64,        {}),\n",
    "\n",
    "          # pre-trained model from [https://doi.org/10.1371/journal.pone.0130140 , http://jmlr.org/papers/v17/15-618.html]\n",
    "          'pretrained_plos_long_relu':   ([-1, 1],     0,       0,         {}),\n",
    "          'pretrained_plos_short_relu':  ([-1, 1],     0,       0,         {}),\n",
    "          'pretrained_plos_long_tanh':   ([-1, 1],     0,       0,         {}),\n",
    "          'pretrained_plos_short_tanh':  ([-1, 1],     0,       0,         {}),\n",
    "          }\n",
    "#Adapt and Play around!\n",
    "\n",
    "modelname = 'pretrained_plos_long_relu'\n",
    "activation_type = 'relu'\n",
    "input_range, epochs, batch_size, kwargs = models[modelname]"
   ]
  },
  {
   "cell_type": "code",
   "execution_count": 4,
   "metadata": {},
   "outputs": [
    {
     "name": "stdout",
     "output_type": "stream",
     "text": [
      "Test loss: 0.029667357468790668\n",
      "Test accuracy: 0.9917\n"
     ]
    }
   ],
   "source": [
    "data_preprocessed = (mnistutils.preprocess(data[0], input_range), data[1],\n",
    "                     mnistutils.preprocess(data[2], input_range), data[3])\n",
    "\n",
    "x_test, y_test = data_preprocessed[2:]\n",
    "y_test = keras.utils.to_categorical(y_test, num_classes)\n",
    "test_sample = np.copy(x_test[0:1])\n",
    "generator = iutils.BatchSequence([x_test, y_test], batch_size=256)\n",
    "\n",
    "model_without_softmax, model_with_softmax = mnistutils.create_model(channels_first, modelname, **kwargs)\n",
    "mnistutils.train_model(model_with_softmax, data_preprocessed, batch_size=batch_size, epochs=epochs)\n",
    "model_without_softmax.set_weights(model_with_softmax.get_weights())"
   ]
  },
  {
   "cell_type": "markdown",
   "metadata": {},
   "source": [
    "# Perturbation Analysis"
   ]
  },
  {
   "cell_type": "markdown",
   "metadata": {},
   "source": [
    "### Setup analyzer and perturbation\n",
    "The perturbation analysis takes several parameters:\n",
    "* `perturbation_function`: This is the method with which the pixels in the most important regions are perturbated. You can pass your own function or pass a string to select one of the predefined functions, e.g. \"zeros\", \"mean\" or \"gaussian\".\n",
    "* `region_shape`: The shape of the regions that are considered for perturbation. In this case, we use single pixels. Regions are aggregated (\"pooled\") using a (customizable) aggregation function that is average pooling by default. The input image is padded such that it can be subdivided into an integer number of regions.\n",
    "* `steps`: Number of perturbation steps. \n",
    "* `ratio`: In each perturbation step, the `ratio` * 100% most important pixels are perturbed."
   ]
  },
  {
   "cell_type": "code",
   "execution_count": 5,
   "metadata": {},
   "outputs": [
    {
     "name": "stdout",
     "output_type": "stream",
     "text": [
      "Using method \"lrp.epsilon\".\n"
     ]
    }
   ],
   "source": [
    "perturbation_function = np.zeros_like  # Equivalently, we could provide the string \"zeros\"\n",
    "region_shape  = (1, 1) \n",
    "steps = 5\n",
    "ratio = 0.01  # Perturbate 1% of pixels per perturbation step\n",
    "\n",
    "methods = [\n",
    "    # NAME                    OPT.PARAMS               POSTPROC FXN                TITLE\n",
    "\n",
    "    # Show input\n",
    "    (\"input\",                 {},                       mnistutils.image,          \"Input\"),\n",
    "\n",
    "    # Function\n",
    "    (\"gradient\",              {},                       mnistutils.graymap,        \"Gradient\"),\n",
    "    (\"smoothgrad\",            {\"noise_scale\": 50},      mnistutils.graymap,        \"SmoothGrad\"),\n",
    "    (\"integrated_gradients\",  {},                       mnistutils.graymap,        \"Integrated Gradients\"),\n",
    "\n",
    "    # Signal\n",
    "    (\"deconvnet\",             {},                       mnistutils.bk_proj,        \"Deconvnet\"),\n",
    "    (\"guided_backprop\",       {},                       mnistutils.bk_proj,        \"Guided Backprop\",),\n",
    "    (\"pattern.net\",           {},                       mnistutils.bk_proj,        \"PatternNet\"),\n",
    "\n",
    "    # Interaction\n",
    "    (\"lrp.z_baseline\",        {},                       mnistutils.heatmap,         \"Gradient*Input\"),\n",
    "    (\"lrp.z\",                 {},                       mnistutils.heatmap,         \"LRP-Z\"),\n",
    "    (\"lrp.epsilon\",           {\"epsilon\": 1},           mnistutils.heatmap,         \"LRP-Epsilon\"),\n",
    "    (\"lrp.composite_a\",       {},                       mnistutils.heatmap,         \"LRP-CompositeA\"),\n",
    "    #(\"lrp.composite_b\",       {\"epsilon\": 1},           mnistutils.heatmap,         \"LRP-CompositeB\"),\n",
    "    ]\n",
    "\n",
    "# Select a method of your choice\n",
    "method = methods[9]\n",
    "print('Using method \"{}\".'.format(method[0]))\n",
    "\n",
    "analyzer = innvestigate.create_analyzer(method[0],\n",
    "                                        model_without_softmax,\n",
    "                                        **method[1])\n",
    "analyzer.fit(data_preprocessed[0],\n",
    "                 pattern_type=activation_type,\n",
    "                 batch_size=256, verbose=1)"
   ]
  },
  {
   "cell_type": "markdown",
   "metadata": {},
   "source": [
    "### Setup perturbation\n",
    "The perturbation analysis consists of two parts:\n",
    "1. An object of the class `Perturbation` that performs the actual perturbation of input images. Here, we use (1, 1)-regions (i.e. single pixels) and add Gaussian noise to the original values of the most important pixels.\n",
    "2. An object of the class `PerturbationAnalysis` that computes the analysis, performes several perturbation steps and evaluates the model performance. In each step, the 5% most important pixels are perturbed."
   ]
  },
  {
   "cell_type": "code",
   "execution_count": 6,
   "metadata": {},
   "outputs": [],
   "source": [
    "perturbation = Perturbation(perturbation_function, region_shape=region_shape, in_place=True)\n",
    "perturbation_analysis = PerturbationAnalysis(analyzer, model_with_softmax, generator, perturbation,\n",
    "                                                 steps=steps, ratio=ratio, verbose=True)"
   ]
  },
  {
   "cell_type": "markdown",
   "metadata": {},
   "source": [
    "## 1. Evaluate the model after several perturbation steps"
   ]
  },
  {
   "cell_type": "code",
   "execution_count": 7,
   "metadata": {},
   "outputs": [
    {
     "name": "stdout",
     "output_type": "stream",
     "text": [
      "Step 1 of 5: 1% of pixels perturbated. Time elapsed: 36.016 seconds.\n",
      "Step 2 of 5: 2% of pixels perturbated. Time elapsed: 34.481 seconds.\n",
      "Step 3 of 5: 3% of pixels perturbated. Time elapsed: 35.734 seconds.\n",
      "Step 4 of 5: 4% of pixels perturbated. Time elapsed: 36.818 seconds.\n",
      "Step 5 of 5: 5% of pixels perturbated. Time elapsed: 37.978 seconds.\n",
      "Time elapsed for 5 steps: 181.029 seconds.\n"
     ]
    }
   ],
   "source": [
    "scores = perturbation_analysis.compute_perturbation_analysis()"
   ]
  },
  {
   "cell_type": "code",
   "execution_count": 8,
   "metadata": {},
   "outputs": [
    {
     "name": "stdout",
     "output_type": "stream",
     "text": [
      "Scores:\n",
      "[[0.02966735 0.9917    ]\n",
      " [0.05553744 0.9816    ]\n",
      " [0.28197858 0.9181    ]\n",
      " [1.28204011 0.6592    ]\n",
      " [2.45483218 0.3856    ]\n",
      " [3.20462122 0.2452    ]]\n"
     ]
    },
    {
     "data": {
      "image/png": "[encoded data removed]",
      "text/plain": [
       "<matplotlib.figure.Figure at 0x7f635c1afba8>"
      ]
     },
     "metadata": {},
     "output_type": "display_data"
    }
   ],
   "source": [
    "scores = np.array(scores)\n",
    "print(\"Scores:\")\n",
    "print(scores)\n",
    "plt.plot(scores[:, 1])\n",
    "plt.xlabel(\"Perturbation steps\")\n",
    "plt.ylabel(\"Test accuracy\")\n",
    "plt.xticks(np.array(range(scores.shape[0])))\n",
    "plt.show()"
   ]
  },
  {
   "cell_type": "markdown",
   "metadata": {},
   "source": [
    "## 2. Plot perturbed sample"
   ]
  },
  {
   "cell_type": "code",
   "execution_count": 9,
   "metadata": {
    "scrolled": true
   },
   "outputs": [
    {
     "data": {
      "text/plain": [
       "<matplotlib.figure.Figure at 0x7f635c0c94a8>"
      ]
     },
     "metadata": {},
     "output_type": "display_data"
    },
    {
     "data": {
      "image/png": "[encoded data removed]",
      "text/plain": [
       "<matplotlib.figure.Figure at 0x7f636e7982b0>"
      ]
     },
     "metadata": {},
     "output_type": "display_data"
    }
   ],
   "source": [
    "steps = 5\n",
    "\n",
    "plt.figure()\n",
    "plt.subplot(2, steps + 1, 1)\n",
    "plt.imshow(np.squeeze(test_sample), cmap=\"Greys_r\")\n",
    "plt.axis(\"off\")\n",
    "plt.title(\"Sample\")\n",
    "\n",
    "\n",
    "samples = list()\n",
    "analyses = list()\n",
    "row_labels = [[\"Samples\"], [\"Analysis\"]]\n",
    "col_labels = list()\n",
    "for i in range(steps):\n",
    "    test_sample, analysis = perturbation_analysis.compute_on_batch(test_sample, return_analysis=True)\n",
    "    samples.append(np.squeeze(test_sample))\n",
    "    analyses.append(np.squeeze(analysis))\n",
    "    col_labels.append(\"Step {}\".format(i+1))\n",
    "\n",
    "grid = [samples, analyses]\n",
    "\n",
    "eutils.plot_image_grid(grid, row_labels, list(), col_labels)\n",
    "plt.show()"
   ]
  },
  {
   "cell_type": "code",
   "execution_count": null,
   "metadata": {},
   "outputs": [],
   "source": []
  }
 ],
 "metadata": {
  "kernelspec": {
   "display_name": "Python 3",
   "language": "python",
   "name": "python3"
  },
  "language_info": {
   "codemirror_mode": {
    "name": "ipython",
    "version": 3
   },
   "file_extension": ".py",
   "mimetype": "text/x-python",
   "name": "python",
   "nbconvert_exporter": "python",
   "pygments_lexer": "ipython3",
   "version": "3.5.4"
  }
 },
 "nbformat": 4,
 "nbformat_minor": 1
}
