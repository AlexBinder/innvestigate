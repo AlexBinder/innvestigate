{
 "cells": [
  {
   "cell_type": "markdown",
   "metadata": {},
   "source": [
    "# Evaluation of Analyzers using Input Perturbations\n",
    "This notebook will guide you through an example how to evaluate analyzers via perturbing the input according to the importance that the different input dimensions have.\n",
    "\n",
    "In particular, several analyzers will be applied to a simple multi-layer perceptron trained on MNIST digits, namely:\n",
    "* Sensitivity Analysis\n",
    "* Deconvolution\n",
    "* Layer-wise relevance propagation\n",
    "\n",
    "The input pixels are divided into quadratic regions that **sorted according to their importance** assigned by those analyzers. Then, the **information in the most important regions is destroyed** by perturbating them and the effect of the perturbation on the classifier performance is measured. This procedure is repeated several times.\n",
    "\n",
    "We expect that the classifier performance drops quickly if important information is removed. Thus, different analyzers can be evaluated by looking at how quickly the performance drops, i.e. the better the analyzer finds the relevant regions in the image the quicker the performance should deteriorate.\n",
    "\n",
    "As a reference, see: **Samek, Wojciech, et al.** \"Evaluating the visualization of what a deep neural network has learned.\" *IEEE transactions on neural networks and learning systems* 28.11 (2017): 2660-2673."
   ]
  },
  {
   "cell_type": "markdown",
   "metadata": {},
   "source": [
    "# Prepare the model, analyzers and data"
   ]
  },
  {
   "cell_type": "code",
   "execution_count": 1,
   "metadata": {},
   "outputs": [
    {
     "name": "stderr",
     "output_type": "stream",
     "text": [
      "Using TensorFlow backend.\n"
     ]
    }
   ],
   "source": [
    "import imp\n",
    "import keras.backend\n",
    "import keras.models\n",
    "import matplotlib.pyplot as plt\n",
    "import numpy as np\n",
    "import os\n",
    "\n",
    "import keras\n",
    "from keras.datasets import mnist\n",
    "from keras.models import Model\n",
    "from keras.optimizers import RMSprop\n",
    "\n",
    "import innvestigate\n",
    "import innvestigate.utils as iutils\n",
    "import innvestigate.utils.tests.networks.base\n",
    "import innvestigate.utils.visualizations as ivis\n",
    "\n",
    "from innvestigate.tools import Perturbation, PerturbationAnalysis\n",
    "\n",
    "base_dir = \"..\"\n",
    "eutils = imp.load_source(\"utils\", os.path.join(base_dir, \"utils.py\"))\n",
    "\n",
    "keras.backend.set_image_data_format(\"channels_first\")"
   ]
  },
  {
   "cell_type": "markdown",
   "metadata": {},
   "source": [
    "### Define helper functions"
   ]
  },
  {
   "cell_type": "code",
   "execution_count": 2,
   "metadata": {},
   "outputs": [],
   "source": [
    "def fetch_data():\n",
    "    # the data, shuffled and split between train and test sets\n",
    "    (x_train, y_train), (x_test, y_test) = mnist.load_data()\n",
    "\n",
    "    x_train = x_train.reshape(60000, 1, 28, 28)\n",
    "    x_test = x_test.reshape(10000, 1, 28, 28)\n",
    "    x_train = x_train.astype('float32')\n",
    "    x_test = x_test.astype('float32')\n",
    "    print(x_train.shape[0], 'train samples')\n",
    "    print(x_test.shape[0], 'test samples')\n",
    "\n",
    "    return x_train, y_train, x_test, y_test\n",
    "\n",
    "\n",
    "def create_model():\n",
    "    num_classes = 10\n",
    "\n",
    "    network = innvestigate.utils.tests.networks.base.mlp_2dense(\n",
    "        (None, 1, 28, 28),\n",
    "        num_classes,\n",
    "        dense_units=1024,\n",
    "        dropout_rate=0.25)\n",
    "    model_wo_sm = Model(inputs=network[\"in\"], outputs=network[\"out\"])\n",
    "    model_w_sm = Model(inputs=network[\"in\"], outputs=network[\"sm_out\"])\n",
    "    return model_wo_sm, model_w_sm\n",
    "\n",
    "\n",
    "def train_model(model, data):\n",
    "    batch_size = 128\n",
    "    num_classes = 10\n",
    "    epochs = 5\n",
    "\n",
    "    x_train, y_train, x_test, y_test = data\n",
    "    # convert class vectors to binary class matrices\n",
    "    y_train = keras.utils.to_categorical(y_train, num_classes)\n",
    "    y_test = keras.utils.to_categorical(y_test, num_classes)\n",
    "\n",
    "    model.compile(loss='categorical_crossentropy',\n",
    "                  optimizer=RMSprop(),\n",
    "                  metrics=['accuracy'])\n",
    "    \n",
    "    weights_file = \"model_with_softmax.h5\"\n",
    "    if os.path.exists(weights_file):\n",
    "        print(\"Loading weights from file.\")\n",
    "        model.load_weights(weights_file)\n",
    "    else:\n",
    "        model.fit(x_train, y_train,\n",
    "                            batch_size=batch_size,\n",
    "                            epochs=epochs,\n",
    "                            verbose=1)\n",
    "        model.save_weights(weights_file)\n",
    "        \n",
    "    score = model.evaluate(x_test, y_test, verbose=0)\n",
    "    print('Test loss:', score[0])\n",
    "    print('Test accuracy:', score[1])\n",
    "\n",
    "def preprocess(X, zero_mean=False):\n",
    "    X.copy()\n",
    "    X /= 255.0\n",
    "    if zero_mean:\n",
    "        X -= 0.5\n",
    "    return X"
   ]
  },
  {
   "cell_type": "markdown",
   "metadata": {},
   "source": [
    "### Load data"
   ]
  },
  {
   "cell_type": "code",
   "execution_count": 3,
   "metadata": {},
   "outputs": [
    {
     "name": "stdout",
     "output_type": "stream",
     "text": [
      "60000 train samples\n",
      "10000 test samples\n"
     ]
    }
   ],
   "source": [
    "num_classes = 10\n",
    "batch_size = 256\n",
    "data = fetch_data()\n",
    "data_preprocessed = (preprocess(data[0]), data[1],\n",
    "                         preprocess(data[2]), data[3])\n",
    "x_test, y_test = data_preprocessed[2:]\n",
    "y_test = keras.utils.to_categorical(y_test, num_classes)\n",
    "generator = iutils.BatchSequence([x_test, y_test], batch_size=batch_size)\n",
    "test_sample = np.copy(generator[0][0][0:1])"
   ]
  },
  {
   "cell_type": "markdown",
   "metadata": {},
   "source": [
    "### Build and train the model"
   ]
  },
  {
   "cell_type": "code",
   "execution_count": 4,
   "metadata": {},
   "outputs": [
    {
     "name": "stdout",
     "output_type": "stream",
     "text": [
      "Loading weights from file.\n",
      "Test loss: 0.06824304887162289\n",
      "Test accuracy: 0.9809\n"
     ]
    }
   ],
   "source": [
    "model_without_softmax, model_with_softmax = create_model()\n",
    "train_model(model_with_softmax, data_preprocessed)\n",
    "model_without_softmax.set_weights(model_with_softmax.get_weights())"
   ]
  },
  {
   "cell_type": "markdown",
   "metadata": {},
   "source": [
    "# Perturbation Analysis"
   ]
  },
  {
   "cell_type": "markdown",
   "metadata": {},
   "source": [
    "### Setup analyzer"
   ]
  },
  {
   "cell_type": "code",
   "execution_count": 5,
   "metadata": {},
   "outputs": [],
   "source": [
    "perturbation_function = \"zeros\"\n",
    "region_shape  = (1, 1)\n",
    "ratio = 0.05\n",
    "steps = 5\n",
    "method = (\"lrp.epsilon\", {}, ivis.heatmap, \"LRP-Epsilon\")\n",
    "\n",
    "analyzer = innvestigate.create_analyzer(method[0],\n",
    "                                        model_without_softmax,\n",
    "                                        **method[1])"
   ]
  },
  {
   "cell_type": "markdown",
   "metadata": {},
   "source": [
    "### Setup perturbation\n",
    "The perturbation analysis consists of two parts:\n",
    "1. An object of the class `Perturbation` that performs the actual perturbation of input images. Here, we use (1, 1)-regions (i.e. single pixels) and add Gaussian noise to the original values of the most important pixels.\n",
    "2. An object of the class `PerturbationAnalysis` that computes the analysis, performes several perturbation steps and evaluates the model performance. In each step, the 5% most important pixels are perturbed."
   ]
  },
  {
   "cell_type": "code",
   "execution_count": 6,
   "metadata": {},
   "outputs": [],
   "source": [
    "perturbation = Perturbation(perturbation_function, region_shape=region_shape)\n",
    "perturbation_analysis = PerturbationAnalysis(analyzer, model_with_softmax, generator, perturbation,\n",
    "                                                 steps=steps, ratio=ratio)"
   ]
  },
  {
   "cell_type": "markdown",
   "metadata": {},
   "source": [
    "## Evaluate the model after several perturbation steps"
   ]
  },
  {
   "cell_type": "code",
   "execution_count": 7,
   "metadata": {},
   "outputs": [
    {
     "name": "stdout",
     "output_type": "stream",
     "text": [
      "Step 1\n",
      "Step 2\n",
      "Step 3\n",
      "Step 4\n",
      "Step 5\n"
     ]
    }
   ],
   "source": [
    "scores = perturbation_analysis.compute_perturbation_analysis()"
   ]
  },
  {
   "cell_type": "code",
   "execution_count": 8,
   "metadata": {},
   "outputs": [
    {
     "name": "stdout",
     "output_type": "stream",
     "text": [
      "Scores:\n",
      "[[0.06824305 0.9809    ]\n",
      " [6.09222879 0.1339    ]\n",
      " [6.01703952 0.0834    ]\n",
      " [4.58186715 0.1012    ]\n",
      " [3.71279439 0.1249    ]\n",
      " [3.44772923 0.1248    ]]\n"
     ]
    },
    {
     "data": {
      "image/png": "[encoded data removed]",
      "text/plain": [
       "<matplotlib.figure.Figure at 0x7fd2a14fd940>"
      ]
     },
     "metadata": {},
     "output_type": "display_data"
    }
   ],
   "source": [
    "scores = np.array(scores)\n",
    "print(\"Scores:\")\n",
    "print(scores)\n",
    "plt.plot(scores[:, 1])\n",
    "plt.xlabel(\"Perturbation steps\")\n",
    "plt.ylabel(\"Test accuracy\")\n",
    "plt.xticks(np.array(range(scores.shape[0])))\n",
    "plt.show()"
   ]
  },
  {
   "cell_type": "markdown",
   "metadata": {},
   "source": [
    "## 2. Plot perturbed sample"
   ]
  },
  {
   "cell_type": "code",
   "execution_count": 9,
   "metadata": {},
   "outputs": [
    {
     "data": {
      "image/png": "[encoded data removed]",
      "text/plain": [
       "<matplotlib.figure.Figure at 0x7fd2a142d240>"
      ]
     },
     "metadata": {},
     "output_type": "display_data"
    }
   ],
   "source": [
    "steps = 5\n",
    "\n",
    "plt.figure()\n",
    "plt.subplot(2, steps + 1, 1)\n",
    "plt.imshow(np.squeeze(test_sample), cmap=\"Greys_r\")\n",
    "plt.axis(\"off\")\n",
    "plt.title(\"Sample\")\n",
    "\n",
    "for i in range(steps):\n",
    "    test_sample, analysis = perturbation_analysis.compute_on_batch(test_sample, return_analysis=True)\n",
    "    \n",
    "    plt.subplot(2, steps + 1, i + 2)\n",
    "    plt.imshow(np.squeeze(test_sample), cmap=\"Greys_r\")\n",
    "    plt.title(\"{} Step{}\".format(i + 1, \"\" if i == 0 else \"s\"))\n",
    "    plt.axis(\"off\")\n",
    "    \n",
    "    plt.subplot(2, steps + 1, i + 2 + (steps + 1))\n",
    "    plt.imshow(np.squeeze(analysis))\n",
    "    plt.axis(\"off\")\n",
    "plt.tight_layout()  # Takes care of spaces between subfigures\n",
    "plt.show()"
   ]
  }
 ],
 "metadata": {
  "kernelspec": {
   "display_name": "Python 3",
   "language": "python",
   "name": "python3"
  },
  "language_info": {
   "codemirror_mode": {
    "name": "ipython",
    "version": 3
   },
   "file_extension": ".py",
   "mimetype": "text/x-python",
   "name": "python",
   "nbconvert_exporter": "python",
   "pygments_lexer": "ipython3",
   "version": "3.5.4"
  }
 },
 "nbformat": 4,
 "nbformat_minor": 1
}
