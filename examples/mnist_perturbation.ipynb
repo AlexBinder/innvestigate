{
 "cells": [
  {
   "cell_type": "code",
   "execution_count": null,
   "metadata": {},
   "outputs": [],
   "source": [
    "import imp\n",
    "import keras.backend\n",
    "import keras.models\n",
    "import matplotlib.pyplot as plt\n",
    "import numpy as np\n",
    "import os\n",
    "\n",
    "import keras\n",
    "from keras.datasets import mnist\n",
    "from keras.models import Model\n",
    "from keras.optimizers import RMSprop\n",
    "\n",
    "import innvestigate\n",
    "import innvestigate.utils as iutils\n",
    "import innvestigate.utils.tests.networks.base\n",
    "import innvestigate.utils.visualizations as ivis\n",
    "\n",
    "from innvestigate.tools import Perturbation, PerturbationAnalysis\n",
    "\n",
    "base_dir = os.path.dirname(\".\")\n",
    "eutils = imp.load_source(\"utils\", os.path.join(base_dir, \"utils.py\"))\n",
    "\n",
    "keras.backend.set_image_data_format(\"channels_first\")"
   ]
  },
  {
   "cell_type": "code",
   "execution_count": null,
   "metadata": {},
   "outputs": [],
   "source": [
    "# Define helper functions\n",
    "def fetch_data():\n",
    "    # the data, shuffled and split between train and test sets\n",
    "    (x_train, y_train), (x_test, y_test) = mnist.load_data()\n",
    "\n",
    "    x_train = x_train.reshape(60000, 1, 28, 28)\n",
    "    x_test = x_test.reshape(10000, 1, 28, 28)\n",
    "    x_train = x_train.astype('float32')\n",
    "    x_test = x_test.astype('float32')\n",
    "    print(x_train.shape[0], 'train samples')\n",
    "    print(x_test.shape[0], 'test samples')\n",
    "\n",
    "    return x_train, y_train, x_test, y_test\n",
    "\n",
    "\n",
    "def create_model():\n",
    "    num_classes = 10\n",
    "\n",
    "    network = innvestigate.utils.tests.networks.base.mlp_2dense(\n",
    "        (None, 1, 28, 28),\n",
    "        num_classes,\n",
    "        dense_units=1024,\n",
    "        dropout_rate=0.25)\n",
    "    model_wo_sm = Model(inputs=network[\"in\"], outputs=network[\"out\"])\n",
    "    model_w_sm = Model(inputs=network[\"in\"], outputs=network[\"sm_out\"])\n",
    "    return model_wo_sm, model_w_sm\n",
    "\n",
    "\n",
    "def train_model(model, data):\n",
    "    batch_size = 128\n",
    "    num_classes = 10\n",
    "    epochs = 5\n",
    "\n",
    "    x_train, y_train, x_test, y_test = data\n",
    "    # convert class vectors to binary class matrices\n",
    "    y_train = keras.utils.to_categorical(y_train, num_classes)\n",
    "    y_test = keras.utils.to_categorical(y_test, num_classes)\n",
    "\n",
    "    model.compile(loss='categorical_crossentropy',\n",
    "                  optimizer=RMSprop(),\n",
    "                  metrics=['accuracy'])\n",
    "\n",
    "    history = model.fit(x_train, y_train,\n",
    "                        batch_size=batch_size,\n",
    "                        epochs=epochs,\n",
    "                        verbose=1)\n",
    "    score = model.evaluate(x_test, y_test, verbose=0)\n",
    "    print('Test loss:', score[0])\n",
    "    print('Test accuracy:', score[1])\n",
    "\n",
    "def preprocess(X, zero_mean=False):\n",
    "    X.copy()\n",
    "    X /= 255.0\n",
    "    if zero_mean:\n",
    "        X -= 0.5\n",
    "    return X"
   ]
  },
  {
   "cell_type": "code",
   "execution_count": null,
   "metadata": {},
   "outputs": [],
   "source": [
    "# Load data\n",
    "num_classes = 10\n",
    "batch_size = 256\n",
    "data = fetch_data()\n",
    "data_preprocessed = (preprocess(data[0]), data[1],\n",
    "                         preprocess(data[2]), data[3])\n",
    "x_test, y_test = data_preprocessed[2:]\n",
    "y_test = keras.utils.to_categorical(y_test, num_classes)\n",
    "generator = iutils.BatchSequence([x_test, y_test], batch_size=batch_size)"
   ]
  },
  {
   "cell_type": "code",
   "execution_count": null,
   "metadata": {},
   "outputs": [],
   "source": [
    "# Build and train the model\n",
    "model_without_softmax, model_with_softmax = create_model()\n",
    "train_model(model_with_softmax, data_preprocessed)\n",
    "model_without_softmax.set_weights(model_with_softmax.get_weights())"
   ]
  },
  {
   "cell_type": "markdown",
   "metadata": {},
   "source": [
    "# Perturbation Analysis"
   ]
  },
  {
   "cell_type": "code",
   "execution_count": null,
   "metadata": {},
   "outputs": [],
   "source": [
    "# Setup analyzer\n",
    "perturbation_function = \"zeros\"\n",
    "num_classes = 10\n",
    "batch_size = 256\n",
    "method = (\"lrp.z_baseline\", {}, ivis.heatmap, \"LRP-Z\")\n",
    "\n",
    "analyzer = innvestigate.create_analyzer(method[0],\n",
    "                                        model_without_softmax,\n",
    "                                        **method[1])"
   ]
  },
  {
   "cell_type": "code",
   "execution_count": null,
   "metadata": {},
   "outputs": [],
   "source": [
    "# Setup perturbation\n",
    "perturbation = Perturbation(perturbation_function, ratio=0.01)\n",
    "perturbation_analysis = PerturbationAnalysis(analyzer, model_with_softmax, generator, perturbation, preprocess,\n",
    "                                                 steps=3)"
   ]
  },
  {
   "cell_type": "markdown",
   "metadata": {},
   "source": [
    "## 1. Evaluate the model after perturbation of the input"
   ]
  },
  {
   "cell_type": "code",
   "execution_count": null,
   "metadata": {},
   "outputs": [],
   "source": [
    "scores = perturbation_analysis.compute_perturbation_analysis()"
   ]
  },
  {
   "cell_type": "code",
   "execution_count": null,
   "metadata": {},
   "outputs": [],
   "source": [
    "scores = np.array(scores)\n",
    "print(\"Scores:\")\n",
    "print(scores)\n",
    "plt.plot(scores[:, 1])\n",
    "plt.xlabel(\"Perturbation steps\")\n",
    "plt.ylabel(\"Test accuracy\")\n",
    "plt.xticks(np.array(range(scores.shape[0])))\n",
    "plt.show()"
   ]
  },
  {
   "cell_type": "markdown",
   "metadata": {},
   "source": [
    "## 2. Plot perturbed sample"
   ]
  },
  {
   "cell_type": "code",
   "execution_count": null,
   "metadata": {},
   "outputs": [],
   "source": [
    "steps = 5\n",
    "test_sample = generator[0][0][0:1]  # Select one sample\n",
    "\n",
    "plt.figure()\n",
    "plt.subplot(1, steps + 1, 1)\n",
    "plt.imshow(np.squeeze(test_sample), cmap=\"Greys_r\")\n",
    "plt.axis(\"off\")\n",
    "plt.title(\"Sample\")\n",
    "\n",
    "for i in range(steps):\n",
    "    test_sample = perturbation_analysis.compute_on_batch(test_sample)\n",
    "    plt.subplot(1, steps + 1, i + 2)\n",
    "    plt.imshow(np.squeeze(test_sample), cmap=\"Greys_r\")\n",
    "    plt.title(\"{} Step{}\".format(i + 1, \"\" if i == 0 else \"s\"))\n",
    "    plt.axis(\"off\")\n",
    "plt.tight_layout()  # Takes care of spaces between subfigures\n",
    "plt.show()"
   ]
  }
 ],
 "metadata": {
  "kernelspec": {
   "display_name": "Python 3",
   "language": "python",
   "name": "python3"
  },
  "language_info": {
   "codemirror_mode": {
    "name": "ipython",
    "version": 3
   },
   "file_extension": ".py",
   "mimetype": "text/x-python",
   "name": "python",
   "nbconvert_exporter": "python",
   "pygments_lexer": "ipython3",
   "version": "3.5.4"
  }
 },
 "nbformat": 4,
 "nbformat_minor": 1
}
